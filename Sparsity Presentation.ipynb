{
 "cells": [
  {
   "cell_type": "markdown",
   "metadata": {
    "slideshow": {
     "slide_type": "slide"
    }
   },
   "source": [
    "### Sparse linear models for image denoising\n",
    "\n",
    "### What are sparse methods?\n",
    "\n",
    "Sparse methods in signal processing use special structure that is shared by some signals, that enables representing them as linear combinations of base signals ('atoms') with few nonzeros or big values.\n",
    "\n",
    "Example applications:"
   ]
  },
  {
   "cell_type": "markdown",
   "metadata": {
    "slideshow": {
     "slide_type": "subslide"
    }
   },
   "source": [
    "### Image denoising\n",
    "\n",
    "![](https://docs.opencv.org/3.1.0/nlm_result1.jpg)"
   ]
  },
  {
   "cell_type": "markdown",
   "metadata": {
    "slideshow": {
     "slide_type": "subslide"
    }
   },
   "source": [
    "![](http://alumni.soe.ucsc.edu/~htakeda/KernelDeblurring/images/cameraman_19x19_BSNR40dB_RMSE296733.png)\n",
    "![](http://alumni.soe.ucsc.edu/~htakeda/KernelDeblurring/images/cameraman_19x19_BNSR40dB_Wiener_K00003_RMSE171663.png)"
   ]
  },
  {
   "cell_type": "markdown",
   "metadata": {
    "slideshow": {
     "slide_type": "slide"
    }
   },
   "source": [
    "### Source Separation\n",
    "![](data:image/jpeg;base64,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)"
   ]
  },
  {
   "cell_type": "markdown",
   "metadata": {
    "slideshow": {
     "slide_type": "slide"
    }
   },
   "source": [
    "Other applications\n",
    "\n",
    "* superresolution (AKA image upsampling)\n",
    "* image compression\n",
    "* style transfer"
   ]
  },
  {
   "cell_type": "markdown",
   "metadata": {
    "slideshow": {
     "slide_type": "slide"
    }
   },
   "source": [
    "#### Teaser\n",
    "\n",
    "* Heard about Dictionary Learning? What is `sklearn.decomposition.DictionaryLearning`?\n",
    "* Seen Orthogonal Matching Pursuit? What is `sklearn.linear_model.OrthogonalMatchingPursuit`?\n",
    "* JPEG algorithm\n",
    "\n",
    "One example of method that in practice works like sparse method is JPEG algorithm. Its quantization step, which is done after Discrete Cosine Transform works by zeroing out small coefficients (this is actually only lossy step). In fact, this example is equivalent to thresholding method, which we will cover later."
   ]
  },
  {
   "cell_type": "markdown",
   "metadata": {
    "slideshow": {
     "slide_type": "slide"
    }
   },
   "source": [
    "### Linear equations and sparsity\n",
    "\n",
    "Consider linear system $Ax = y$. For now we'll assume that this system has solution, but it might have many such solutions.\n",
    "\n",
    "Sparse methods aim at finding canonical solution where there might be many potential guesses - the original problem becomes\n",
    "\n",
    "Find $x$ such that $Ax = y$, and $x$ is *sparse*."
   ]
  },
  {
   "cell_type": "markdown",
   "metadata": {
    "slideshow": {
     "slide_type": "slide"
    }
   },
   "source": [
    "### How to define sparsity precisely?\n",
    "\n",
    "In math/signal processing several types of metrics are used to measure sparsity.\n",
    "\n",
    "#### $L_0$ and $L_1$\n",
    "\n",
    "Sparsity is most commonly measured using $L_0$ metric or $L_1$ 'metric'.\n",
    "\n",
    "$L_1$ metric, also known as Manhattan distance, is defined as\n",
    "\n",
    "$\\|x\\|_1 = \\sum_{i}{|x_i|}$ \n",
    "\n",
    "Whereas $L_0$ is not actually a metric, and is defined as\n",
    "\n",
    "$\\|x\\|_0 = supp(x) =$ *number of nonzero coefficients in* $x$"
   ]
  },
  {
   "cell_type": "markdown",
   "metadata": {
    "slideshow": {
     "slide_type": "notes"
    }
   },
   "source": [
    "Why use two separate notions? \n",
    "\n",
    "Answer: $L_0$ is not even continuous, and it is hard to optimize. \n",
    "\n",
    "In general leads to NP-hard optimization problem!\n",
    "\n",
    "$L_1$ on the other hand is continuous and convex. Also, $L_1$ can be thought of as a relaxation (convexification) of $L_0$:"
   ]
  },
  {
   "cell_type": "markdown",
   "metadata": {
    "slideshow": {
     "slide_type": "subslide"
    }
   },
   "source": [
    "![image of L1 vs L0 'unit balls'](https://www.intechopen.com/media/chapter/56837/media/F4.png)"
   ]
  },
  {
   "cell_type": "markdown",
   "metadata": {
    "slideshow": {
     "slide_type": "subslide"
    }
   },
   "source": [
    "In fact, finding $x$ such that\n",
    "\n",
    "$Ax = b$ ,  $\\|x\\|_1$ minimal\n",
    "\n",
    "can be solved with linear program."
   ]
  },
  {
   "cell_type": "markdown",
   "metadata": {
    "slideshow": {
     "slide_type": "slide"
    }
   },
   "source": [
    "### L1 vs L2 (Euclidean) norm\n",
    "\n",
    "A person familiar with regularization in linear regression might ask: \n",
    "\n",
    "What's the difference between minimizing $\\|x\\|^2$ and $\\|x\\|_1$ while solving  $Ax = b$?\n",
    "\n",
    "Doesn't minimizing Euclidean norm lead to small coefficients?\n",
    "\n",
    "The problem: structure:"
   ]
  },
  {
   "cell_type": "markdown",
   "metadata": {
    "slideshow": {
     "slide_type": "subslide"
    }
   },
   "source": [
    "## L1 vs L2 - example\n",
    "\n",
    "$x \\in \\mathbb{R}^d, x_i = \\sqrt{\\frac{1}{d}}$.\n",
    "\n",
    "Then\n",
    "\n",
    "$\\|x\\|^2 = \\sum_{i=0}^d \\frac{1}{d} = 1$\n",
    "\n",
    "But\n",
    "\n",
    "$\\|x\\|_1 = \\sum_{i=0}^d{\\sqrt{\\frac{1}{d}}} = d {\\sqrt{\\frac{1}{d}}} = \\sqrt{d}$\n"
   ]
  },
  {
   "cell_type": "markdown",
   "metadata": {
    "slideshow": {
     "slide_type": "slide"
    }
   },
   "source": [
    "### Comment on sparse data structures\n",
    "\n",
    "Sparsity in mathematics/signal processing is related, but not equal to sparsity from computer science point of view.\n",
    "In computer science sparse matrix is a data structure that holds only nonzero coefficients.\n",
    "The relation between sparse data structure and mathematial notion lies in fact that sparse matrix data structure works well for representing matrices sparse in precise sense - this is also actually used in many 'sparse algorithms'."
   ]
  },
  {
   "cell_type": "markdown",
   "metadata": {
    "slideshow": {
     "slide_type": "slide"
    }
   },
   "source": [
    "### Dictionary learning and related terminology\n",
    "\n",
    "Convention:\n",
    "\n",
    "$x \\approx D\\alpha$ where $\\alpha$ is found with some kind of sparse method.\n",
    "\n",
    "The $D$ matrix is called dictionary.\n",
    "\n",
    "$\\alpha$ gives $x$'s *decomposition into atoms*.\n",
    "\n",
    "Examples of dictionaries:\n",
    "\n",
    "* Fourier transforms (JPEG uses Discrete Cosine Transform)\n",
    "* Wavelet transforms\n",
    "\n",
    "$D$ might be also learned from training data, which is the task of dictionary learning."
   ]
  },
  {
   "cell_type": "markdown",
   "metadata": {
    "slideshow": {
     "slide_type": "slide"
    }
   },
   "source": [
    "### Denoising problem formulation\n",
    "\n",
    "In denoising most commonly we pose problem as\n",
    "\n",
    "$y = x_{noisy} = x + \\epsilon$ where $\\epsilon$ has iid. normally distributed coefficients with zero mean and std. dev $\\sigma$."
   ]
  },
  {
   "cell_type": "markdown",
   "metadata": {
    "slideshow": {
     "slide_type": "slide"
    }
   },
   "source": [
    "### Sparse models for denoising\n",
    "\n",
    "Using our terminology we pose the problem as\n",
    "\n",
    "Minimize $\\|x - D\\alpha\\|^2$ with $\\|\\alpha\\|_0 \\leq k$\n",
    "\n",
    "#### Optimization algorithm\n",
    "\n",
    "One of the simplest algorithms for solving such problems is thresholding algorithm:"
   ]
  },
  {
   "cell_type": "code",
   "execution_count": 1,
   "metadata": {
    "slideshow": {
     "slide_type": "fragment"
    }
   },
   "outputs": [],
   "source": [
    "def thresholding(D, x, t):\n",
    "    coeffs = D.T @ x\n",
    "    mask = np.abs(coeffs) > t\n",
    "    return coeffs * mask"
   ]
  },
  {
   "cell_type": "markdown",
   "metadata": {
    "slideshow": {
     "slide_type": "subslide"
    }
   },
   "source": [
    "Note that this algorithm naturally enforces sparsity - as `t` increases, it can only zero out more coefficients."
   ]
  },
  {
   "cell_type": "markdown",
   "metadata": {
    "slideshow": {
     "slide_type": "slide"
    }
   },
   "source": [
    "#### Used dictionary\n",
    "\n",
    "For this part we will use Daubechies wavelets coefficients.\n",
    "\n",
    "#### How can it be extended\n",
    "\n",
    "* Use different wavelet transform\n",
    "\n",
    "* Use patch-based processing, and then average the patches (`sklearn.feature_extraction.image.extract_patches_2d`)\n",
    " \n",
    "* Use different algorithm (these methods are called *pursuit algorithms*), for example Orthogonal Matching Pursuit or Basis Pursuit\n",
    "\n",
    "* Dictionary learning: adapt (note that this would require multiple images, or image patches)"
   ]
  },
  {
   "cell_type": "markdown",
   "metadata": {
    "slideshow": {
     "slide_type": "subslide"
    }
   },
   "source": [
    "![](https://scikit-learn.org/stable/_images/sphx_glr_plot_image_denoising_001.png)\n",
    "\n",
    "![](https://scikit-learn.org/stable/_images/sphx_glr_plot_image_denoising_002.png)"
   ]
  },
  {
   "cell_type": "markdown",
   "metadata": {
    "slideshow": {
     "slide_type": "slide"
    }
   },
   "source": [
    "### Advanced topics\n",
    "\n",
    "#### Other method that could utilize sparsity\n",
    "\n",
    "Sparsity naturally comes up in matrix factorization (from using some form of L1 regularization)\n",
    "\n",
    "The general form of matrix factorization\n",
    "\n",
    "$argmin_{A, X} \\rho(Y, AX) + \\lambda \\phi(A) + \\gamma \\psi(X)$ \n",
    "\n",
    "$\\rho$ is most commonly some matrix norm, for example PCA solves problem with $\\rho(Y, AX) = \\|Y - AX\\|^2_F,\\phi, \\psi = 0$\n",
    "\n",
    "* Nonnegative Matrix Factorization (**TODO** link this with NMF on arXiv )\n",
    "\n",
    "* Sparse PCA (like PCA, but $\\psi(X) = \\sum_{i}{\\|X_i\\|_1}$)\n",
    "\n",
    "* Robust PCA ($\\psi(X) = \\sum_{i}{\\|X_i\\|_1}$, $\\phi(A) = \\|A\\|_{*} = tr(\\sqrt{A^T A}) = $ *sum of $A$'s singular values*)\n",
    "\n",
    "* Sparse autoencoders"
   ]
  },
  {
   "cell_type": "markdown",
   "metadata": {
    "slideshow": {
     "slide_type": "subslide"
    }
   },
   "source": [
    "#### Maximum A Posteriori estimation\n",
    "A precise way to formulate the problem is to pose it as Maximum A Posteriori estimation:\n",
    "\n",
    "Recall that Maximum A Posteriori estimate of parameters $X$ given data $Y$ is defined as maximizing \n",
    "\n",
    "$$\\hat{X} = argmax_{X}P(X | Y)$$\n",
    "\n",
    "Thus expression analogous to negative log-likelihood becomes (with Gaussian noise)\n",
    "\n",
    "$-logP(X | Y) \\propto -log(P(Y|X)P(X)) \\propto -log(e^{\\|Y - DX\\|^2} e^{\\lambda\\|X\\|_1}) =  \\|Y - DX\\|^2 + \\lambda\\|X\\|_1$"
   ]
  },
  {
   "cell_type": "markdown",
   "metadata": {
    "slideshow": {
     "slide_type": "slide"
    }
   },
   "source": [
    "## Resources\n",
    "\n",
    "The go-to person for topics on sparse models in image & signal processing is [Michael Elad](https://elad.cs.technion.ac.il/#), author of:\n",
    "\n",
    "[Five Lectures on Sparse and Redundant Representations](https://www.google.com/url?sa=t&rct=j&q=&esrc=s&source=web&cd=1&ved=2ahUKEwjptojVpsPgAhUNt4sKHfihCIgQFjAAegQIChAC&url=https%3A%2F%2Felad.cs.technion.ac.il%2Fwp-content%2Fuploads%2F2018%2F02%2FPCMI2010-Elad.pdf&usg=AOvVaw3Z1qVcrj-01ikUQU84KkKO) - an introductory article\n",
    "\n",
    "[Sparse and Redundant Representations](https://www.edx.org/professional-certificate/israelx-sparse-representations-from-theory-to-practice) edX Specialization\n",
    "\n",
    "For statistical learning point of view:\n",
    "\n",
    "[Statistical Learning with Sparsity](https://web.stanford.edu/~hastie/StatLearnSparsity/) book - its authors were working with people who came up with these ideas in the first place\n",
    "\n",
    "In context of signal processing these topics are also jointly called *compressed sensing*. People who are working in this branch tend to work on random matrix theory, for example Emanuel Candes and Terence Tao."
   ]
  }
 ],
 "metadata": {
  "celltoolbar": "Slideshow",
  "kernelspec": {
   "display_name": "Python 3",
   "language": "python",
   "name": "python3"
  },
  "language_info": {
   "codemirror_mode": {
    "name": "ipython",
    "version": 3
   },
   "file_extension": ".py",
   "mimetype": "text/x-python",
   "name": "python",
   "nbconvert_exporter": "python",
   "pygments_lexer": "ipython3",
   "version": "3.6.4"
  }
 },
 "nbformat": 4,
 "nbformat_minor": 2
}
