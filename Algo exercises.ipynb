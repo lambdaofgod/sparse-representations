{
 "cells": [
  {
   "cell_type": "code",
   "execution_count": 1,
   "metadata": {},
   "outputs": [],
   "source": [
    "import numpy as np"
   ]
  },
  {
   "cell_type": "code",
   "execution_count": 2,
   "metadata": {},
   "outputs": [],
   "source": [
    "A = np.array([\n",
    "  [0.1817, 0.5394, -0.1197, 0.6404],\n",
    "  [0.6198   ,0.1994,  0.0946, -0.3121],\n",
    "  [-0.7634,  -0.8181,  0.9883  ,0.7018]]\n",
    ")\n",
    "\n",
    "b = np.array([1.1862, -0.1158,  -0.1093])"
   ]
  },
  {
   "cell_type": "code",
   "execution_count": 3,
   "metadata": {},
   "outputs": [],
   "source": [
    "x = np.eye(4)"
   ]
  },
  {
   "cell_type": "markdown",
   "metadata": {},
   "source": [
    "# Matching pursuits"
   ]
  },
  {
   "cell_type": "code",
   "execution_count": 1,
   "metadata": {},
   "outputs": [],
   "source": [
    "# %load pursuit.py\n",
    "import numpy as np\n",
    "\n",
    "\n",
    "def pursuit(A, b, n_steps, pursuit_type='omp', wmp_t=None):\n",
    "    def get_next_approximation_mp(**kwargs):\n",
    "        a = kwargs['a_next']\n",
    "        best_column_index = kwargs['best_column_index']\n",
    "        x_approx = kwargs['x_approx']\n",
    "        x_approx[best_column_index] += a * np.linalg.norm(res)\n",
    "        return x_approx\n",
    "\n",
    "    def get_next_approximation_omp(**kwargs):\n",
    "        support = kwargs['support']\n",
    "        x = np.zeros(A.shape[1])\n",
    "        x_star = np.linalg.lstsq(A[:, support], b)[0]\n",
    "        x[support] = x_star\n",
    "        return x\n",
    "    \n",
    "    def get_best_column_wmp(inner_products, wmp_t):\n",
    "        assert wmp_t is not None\n",
    "        for i, p in enumerate(inner_products):\n",
    "            residual_error_norm = np.linalg.norm(res)\n",
    "            if p >= wmp_t * residual_error_norm:\n",
    "                return i\n",
    "        return i\n",
    "    \n",
    "    res = b\n",
    "    support = []\n",
    "    x_approx = np.zeros(A.shape[1])\n",
    "    \n",
    "    get_best_column = np.argmax\n",
    "    if pursuit_type == 'omp':\n",
    "        get_next_approximation = get_next_approximation_omp\n",
    "    elif pursuit_type == 'mp':\n",
    "        get_next_approximation = get_next_approximation_mp\n",
    "    elif pursuit_type == 'wmp':\n",
    "        get_next_approximation = get_next_approximation_mp\n",
    "        get_best_column = lambda products: get_best_column_wmp(products, wmp_t)\n",
    "\n",
    "    for __ in range(n_steps):\n",
    "        inner_products = A.T @ res\n",
    "        best_column_index = get_best_column(inner_products)\n",
    "        a_next = inner_products[best_column_index]\n",
    "        #inner_products[best_column_index] = 0\n",
    "        best_column = A[:, best_column_index]\n",
    "        support.append(best_column_index)\n",
    "        x_approx = get_next_approximation(\n",
    "            a_next=a_next,\n",
    "            best_column_index=best_column_index,\n",
    "            support=support,\n",
    "            x_approx=x_approx)\n",
    "        res = b - A @ x_approx\n",
    "\n",
    "    return support, res, x_approx"
   ]
  },
  {
   "cell_type": "code",
   "execution_count": 73,
   "metadata": {},
   "outputs": [],
   "source": [
    "support, res, x_approx = pursuit(A, b, 2, pursuit_type='mp')"
   ]
  },
  {
   "cell_type": "code",
   "execution_count": 74,
   "metadata": {},
   "outputs": [],
   "source": [
    "support, res, x_approx = pursuit(A, b, 2, pursuit_type='wmp', wmp_t=0.5)"
   ]
  },
  {
   "cell_type": "code",
   "execution_count": 76,
   "metadata": {},
   "outputs": [
    {
     "data": {
      "text/plain": [
       "array([ 0.22719932,  0.70616409, -0.26096401,  0.71907692])"
      ]
     },
     "execution_count": 76,
     "metadata": {},
     "output_type": "execute_result"
    }
   ],
   "source": [
    "A.T @ b"
   ]
  },
  {
   "cell_type": "code",
   "execution_count": 75,
   "metadata": {},
   "outputs": [
    {
     "data": {
      "text/plain": [
       "[1, 3]"
      ]
     },
     "execution_count": 75,
     "metadata": {},
     "output_type": "execute_result"
    }
   ],
   "source": [
    "support"
   ]
  },
  {
   "cell_type": "code",
   "execution_count": 6,
   "metadata": {},
   "outputs": [
    {
     "data": {
      "text/plain": [
       "0.9567531400438529"
      ]
     },
     "execution_count": 6,
     "metadata": {},
     "output_type": "execute_result"
    }
   ],
   "source": [
    "np.linalg.norm(b - A @ x_approx)"
   ]
  },
  {
   "cell_type": "markdown",
   "metadata": {},
   "source": [
    "## LARS "
   ]
  },
  {
   "cell_type": "code",
   "execution_count": 7,
   "metadata": {
    "collapsed": true
   },
   "outputs": [],
   "source": [
    "from sklearn.linear_model import LassoLarsCV, LassoLars, lars_path\n",
    "\n",
    "import matplotlib.pyplot as plt\n",
    "%matplotlib inline"
   ]
  },
  {
   "cell_type": "code",
   "execution_count": 8,
   "metadata": {
    "collapsed": true
   },
   "outputs": [],
   "source": [
    "llars = LassoLars()"
   ]
  },
  {
   "cell_type": "code",
   "execution_count": 16,
   "metadata": {
    "collapsed": true
   },
   "outputs": [],
   "source": [
    "beta = np.zeros(100)\n",
    "beta[0:10] = 25\n",
    "\n",
    "noise = np.random.randn(20) / 40 \n",
    "x = np.random.randn(20, 100)"
   ]
  },
  {
   "cell_type": "code",
   "execution_count": 17,
   "metadata": {
    "collapsed": true
   },
   "outputs": [],
   "source": [
    "y = x @ beta + noise"
   ]
  },
  {
   "cell_type": "code",
   "execution_count": 18,
   "metadata": {},
   "outputs": [
    {
     "data": {
      "text/plain": [
       "LassoLars(alpha=1.0, copy_X=True, eps=2.2204460492503131e-16,\n",
       "     fit_intercept=True, fit_path=True, max_iter=500, normalize=True,\n",
       "     positive=False, precompute='auto', verbose=False)"
      ]
     },
     "execution_count": 18,
     "metadata": {},
     "output_type": "execute_result"
    }
   ],
   "source": [
    "llars.fit(x, y)"
   ]
  },
  {
   "cell_type": "code",
   "execution_count": 19,
   "metadata": {},
   "outputs": [
    {
     "data": {
      "image/png": "[encoded data removed]",
      "text/plain": [
       "<matplotlib.figure.Figure at 0x7f84f6fe9198>"
      ]
     },
     "metadata": {},
     "output_type": "display_data"
    }
   ],
   "source": [
    "alphas = llars.alphas_\n",
    "coefs = llars.coef_path_\n",
    "\n",
    "xx = np.sum(np.abs(coefs.T), axis=1)\n",
    "xx /= xx[-1]\n",
    "\n",
    "plt.plot(xx, coefs.T)\n",
    "ymin, ymax = plt.ylim()\n",
    "plt.vlines(xx, ymin, ymax, linestyles='dashed')\n",
    "plt.xlabel('|coef| / max|coef|')\n",
    "plt.ylabel('Coefficients')\n",
    "plt.title('LASSO Path')\n",
    "plt.axis('tight')\n",
    "plt.show()"
   ]
  },
  {
   "cell_type": "code",
   "execution_count": 20,
   "metadata": {},
   "outputs": [
    {
     "data": {
      "text/plain": [
       "[1, 10, 6, 22, 27, 2, 4, 92, 31, 38, 41, 62, 3, 12, 81, 34, 91, 79]"
      ]
     },
     "execution_count": 20,
     "metadata": {},
     "output_type": "execute_result"
    }
   ],
   "source": [
    "llars.active_"
   ]
  },
  {
   "cell_type": "markdown",
   "metadata": {},
   "source": [
    "## 3.11 Mathematical introduction to compressive sensing"
   ]
  },
  {
   "cell_type": "code",
   "execution_count": 335,
   "metadata": {
    "collapsed": true
   },
   "outputs": [],
   "source": [
    "m = 1000 \n",
    "N = 10000\n",
    "\n",
    "random_rademacher = 2 * (np.random.binomial(n=1, p=0.5, size=(m, N)) - 0.5)\n",
    "A = 1 / np.sqrt(m) * random_rademacher "
   ]
  },
  {
   "cell_type": "code",
   "execution_count": 336,
   "metadata": {
    "collapsed": true
   },
   "outputs": [],
   "source": [
    "n_nonzero = int(np.sqrt(m))\n",
    "\n",
    "idxs = np.random.choice(np.arange(m), size=10)\n",
    "x0 = np.zeros(N)\n",
    "x0[idxs] = 1 / np.sqrt(m)\n",
    "\n",
    "b0 = A @ x0"
   ]
  },
  {
   "cell_type": "code",
   "execution_count": 337,
   "metadata": {},
   "outputs": [
    {
     "name": "stdout",
     "output_type": "stream",
     "text": [
      "CPU times: user 1.08 s, sys: 476 ms, total: 1.56 s\n",
      "Wall time: 518 ms\n"
     ]
    }
   ],
   "source": [
    "%time support, res, x_approx = pursuit(A, b0, n_nonzero)"
   ]
  },
  {
   "cell_type": "code",
   "execution_count": 338,
   "metadata": {},
   "outputs": [
    {
     "data": {
      "text/plain": [
       "1.0"
      ]
     },
     "execution_count": 338,
     "metadata": {},
     "output_type": "execute_result"
    }
   ],
   "source": [
    "# correct rate\n",
    "len([i for i in support if i in idxs]) / n_nonzero"
   ]
  },
  {
   "cell_type": "code",
   "execution_count": 339,
   "metadata": {
    "collapsed": true
   },
   "outputs": [],
   "source": [
    "A_normalized = A / np.linalg.norm(A, axis=0)\n",
    "G = A_normalized.T @ A_normalized\n",
    "np.fill_diagonal(G, 0)\n",
    "mu = G.max()"
   ]
  },
  {
   "cell_type": "code",
   "execution_count": 340,
   "metadata": {},
   "outputs": [
    {
     "name": "stdout",
     "output_type": "stream",
     "text": [
      "0.17\n",
      "6.88235294118\n"
     ]
    }
   ],
   "source": [
    "print(mu)\n",
    "print(1 + 1/mu)"
   ]
  },
  {
   "cell_type": "code",
   "execution_count": 341,
   "metadata": {},
   "outputs": [
    {
     "data": {
      "text/plain": [
       "31.622776601683793"
      ]
     },
     "execution_count": 341,
     "metadata": {},
     "output_type": "execute_result"
    }
   ],
   "source": [
    "np.sqrt(m)"
   ]
  },
  {
   "cell_type": "code",
   "execution_count": 342,
   "metadata": {},
   "outputs": [
    {
     "data": {
      "text/plain": [
       "1000"
      ]
     },
     "execution_count": 342,
     "metadata": {},
     "output_type": "execute_result"
    }
   ],
   "source": [
    "np.linalg.matrix_rank(A)"
   ]
  }
 ],
 "metadata": {
  "hide_input": false,
  "kernelspec": {
   "display_name": "Python 3",
   "language": "python",
   "name": "python3"
  },
  "language_info": {
   "codemirror_mode": {
    "name": "ipython",
    "version": 3
   },
   "file_extension": ".py",
   "mimetype": "text/x-python",
   "name": "python",
   "nbconvert_exporter": "python",
   "pygments_lexer": "ipython3",
   "version": "3.6.4"
  }
 },
 "nbformat": 4,
 "nbformat_minor": 2
}
