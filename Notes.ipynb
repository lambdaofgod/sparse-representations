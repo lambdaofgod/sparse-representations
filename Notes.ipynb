{
 "cells": [
  {
   "cell_type": "markdown",
   "metadata": {},
   "source": [
    "# Sparse and redundant representations - notes "
   ]
  },
  {
   "cell_type": "markdown",
   "metadata": {
    "collapsed": true
   },
   "source": [
    "##### Intro\n",
    "\n",
    "The field deals with problems stemming from underdetermined linear systems ($x \\in \\mathbb{R}^n$, $y \\in \\mathbb{R}^m$ where $m < n$)\n",
    "\n",
    "$$Ax = b$$\n",
    "\n",
    "The problem of finding such $x$'s is ill, posed, but there are situations where finding \n",
    "\n",
    "$$x^{*} = \\underset{\\{x: Ax = b\\}}{argmin}|supp(x)| \\tag{P0}$$\n",
    "\n",
    "Is pretty useful.\n",
    "\n",
    "$supp(x)$ is also denoted $\\|x\\|_0$ (which is abuse of notation, since $\\|\\cdot\\|_0$ is not a norm - it is not homogenous)\n",
    "\n",
    "#### Troubles with solving  \n",
    "\n",
    "In general the problem of finding such $x^{*}$ is known to be NP-complete.\n",
    "\n",
    "Because of this approximations are used in practice.\n",
    "\n",
    "There are 2 different approaches to approximately solve $P0$:\n",
    "\n",
    "- Greedy methods\n",
    "- Relaxation methods\n",
    "\n",
    "**Greedy methods** start with $x_0 = 0$ and  built up $x_{n+1}$ by enlarging support.\n",
    "\n",
    "**Relaxation methods** are based on using continuous optimization tools to relaxations of $\\|\\cdot\\|_0$, for example $\\|\\cdot\\|_1$ is convex and can be also tackled with linear programming tools.\n",
    "\n",
    "\n",
    "#### Guarantees\n",
    "\n",
    "Though solving $P0$ exactly is tough, there are conditional guarantees for solutions of corresponding linear system.\n",
    "\n",
    "Define $spark(A)$ as the smallest $n$ such that exist columns $(A_{i_j})_{j < n}$ that are linearly dependent (this is actually $\\|x^{*}\\|_0$ for $P0$ with $b = 0$).\n",
    "\n",
    "If $x$ is a solution with $\\|x\\|_0 < \\frac{spark(A)}{2}$ then it is the sparsest solution.\n",
    "\n",
    "Proof of the claim above: \n",
    "If $x,y$ are solutions and $max\\{\\|x\\|_0, \\|y\\|_0\\} < \\frac{spark(A)}{2}$,\n",
    "\n",
    "then $0 = Ax - Ay = A(x-y)$, \n",
    "\n",
    "so $\\|x - y\\|_0 \\leq \\|x\\|_0 + \\|y\\|_0  < spark(A)$, a contradiction.\n",
    "\n",
    "#### Upper bound on spark\n",
    "\n",
    "Spark is difficult to compute, but there are method for upper bounding it by something that is easier to compute.\n",
    "\n",
    "Define *mutual coherence* of column-normalized $A$, \n",
    "\n",
    "$$\\mu(A) = max_{i \\neq j} A^T_i A_j$$\n",
    "\n",
    "It can be shown that $spark(A) \\leq 1 + \\frac{1}{\\mu(A)}$."
   ]
  }
 ],
 "metadata": {
  "hide_input": false,
  "kernelspec": {
   "display_name": "Python 3",
   "language": "python",
   "name": "python3"
  },
  "language_info": {
   "codemirror_mode": {
    "name": "ipython",
    "version": 3
   },
   "file_extension": ".py",
   "mimetype": "text/x-python",
   "name": "python",
   "nbconvert_exporter": "python",
   "pygments_lexer": "ipython3",
   "version": "3.5.1"
  }
 },
 "nbformat": 4,
 "nbformat_minor": 2
}
