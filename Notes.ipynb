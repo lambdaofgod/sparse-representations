{
 "cells": [
  {
   "cell_type": "markdown",
   "metadata": {},
   "source": [
    "# Sparse and redundant representations - notes "
   ]
  },
  {
   "cell_type": "markdown",
   "metadata": {
    "collapsed": true
   },
   "source": [
    "## Intro\n",
    "\n",
    "The field deals with problems stemming from underdetermined linear systems ($x \\in \\mathbb{R}^n$, $y \\in \\mathbb{R}^m$ where $m < n$)\n",
    "\n",
    "$$Ax = b$$\n",
    "\n",
    "The problem of finding such $x$'s is ill, posed, but there are situations where finding \n",
    "\n",
    "$$x^{*} = \\underset{\\{x: Ax = b\\}}{argmin}|supp(x)| \\tag{P0}$$\n",
    "\n",
    "Is pretty useful.\n",
    "\n",
    "$supp(x)$ is also denoted $\\|x\\|_0$ (which is abuse of notation, since $\\|\\cdot\\|_0$ is not a norm - it is not homogenous)\n",
    "\n",
    "#### Troubles with solving  \n",
    "\n",
    "In general the problem of finding such $x^{*}$ is known to be NP-complete.\n",
    "\n",
    "Because of this approximations are used in practice.\n",
    "\n",
    "There are 2 different approaches to approximate $x^{*}$:\n",
    "\n",
    "- Greedy methods\n",
    "- Relaxation methods\n",
    "\n",
    "Greedy methods start with $x_0 = 0$ and  built up $x_{n+1}$ by enlarging support.\n",
    "\n",
    "Relaxation methods are based on using continuous optimization tools to relaxations of $\\|\\cdot\\|_0$, for example $\\|\\cdot\\|_1$ is convex and can be also tackled with linear programming tools.\n",
    "\n",
    "\n",
    "#### Guarantees\n",
    "[TODO]"
   ]
  },
  {
   "cell_type": "code",
   "execution_count": null,
   "metadata": {
    "collapsed": true
   },
   "outputs": [],
   "source": []
  }
 ],
 "metadata": {
  "hide_input": false,
  "kernelspec": {
   "display_name": "Python 3",
   "language": "python",
   "name": "python3"
  },
  "language_info": {
   "codemirror_mode": {
    "name": "ipython",
    "version": 3
   },
   "file_extension": ".py",
   "mimetype": "text/x-python",
   "name": "python",
   "nbconvert_exporter": "python",
   "pygments_lexer": "ipython3",
   "version": "3.5.1"
  }
 },
 "nbformat": 4,
 "nbformat_minor": 2
}
