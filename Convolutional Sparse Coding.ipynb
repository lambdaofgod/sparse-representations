{
 "cells": [
  {
   "cell_type": "markdown",
   "metadata": {},
   "source": [
    "# Convolutional Sparse Coding\n",
    "\n",
    "CSC is a subdomain of sparse coding. It deals with the problems of the form\n",
    "\n",
    "$$\\hat{x} = \\underset{x}{argmin} \\|a * x - b\\| + \\lambda \\|x\\|_1 $$\n",
    "\n",
    "In Python there is a library called [sporco](https://github.com/bwohlberg/sporco) for CSC that implements many optimization schemes. It has [some notebooks](https://github.com/bwohlberg/sporco-notebooks) that show applications of CSC.\n",
    "\n",
    "Good articles:\n",
    "\n",
    "[Optimization Methods for Convolutional Sparse Coding](https://arxiv.org/pdf/1406.2407.pdf) - provides the best introduction. Tackling from optimization perspective is probably most illuminating, at least if we're interested in sparse modeling.\n",
    "\n",
    "[Deconvolutional Networks](http://www.matthewzeiler.com/wp-content/uploads/2017/07/cvpr2010.pdf) - one of models which is very similar to CNNs and is said to be an inspiration for CSC."
   ]
  }
 ],
 "metadata": {
  "kernelspec": {
   "display_name": "Python 3",
   "language": "python",
   "name": "python3"
  },
  "language_info": {
   "codemirror_mode": {
    "name": "ipython",
    "version": 3
   },
   "file_extension": ".py",
   "mimetype": "text/x-python",
   "name": "python",
   "nbconvert_exporter": "python",
   "pygments_lexer": "ipython3",
   "version": "3.6.4"
  }
 },
 "nbformat": 4,
 "nbformat_minor": 2
}
